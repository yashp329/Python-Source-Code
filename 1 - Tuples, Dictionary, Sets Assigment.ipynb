{
 "cells": [
  {
   "cell_type": "markdown",
   "id": "8a440b5a",
   "metadata": {},
   "source": [
    "**Q1. What are the characteristics of the tuples? Is tuple immutable?**"
   ]
  },
  {
   "cell_type": "markdown",
   "id": "f07e9172",
   "metadata": {},
   "source": [
    "- Tuples are data structure used to store multiple values of different datatypes.\n",
    "- Tuples can be written by using paranthesis i.e. ().\n",
    "- Tuples are ordered, indexed and immutable in nature which means we cannot make changes in tuples as we can in lists.\n",
    "\n",
    "Eg:- (1,None,True,12.21,\"Yash\")\n",
    "\n"
   ]
  },
  {
   "cell_type": "markdown",
   "id": "e2e4e5b5",
   "metadata": {},
   "source": [
    "**Q2. What are the two tuple methods in python? Give an example of each method. Give a reason why\n",
    "tuples have only two in-built methods as compared to Lists.**"
   ]
  },
  {
   "cell_type": "markdown",
   "id": "230291e3",
   "metadata": {},
   "source": [
    "There are two methods or functions used for tuples in Python:-\n",
    "1. count() method : used to count occurrence of given element in the tuple\n",
    "2. index() method : used to give index of first occurrence of the given element\n",
    "\n",
    "The main reason that tuple consists of only two methods as compared to lists is that tuples are immutable or unchangeable in nature i.ee we cannot make any modifications inside the tuples as we can do in lists."
   ]
  },
  {
   "cell_type": "code",
   "execution_count": 4,
   "id": "6bbc2d09",
   "metadata": {},
   "outputs": [],
   "source": [
    "tup1 = (1, None, 12,21,1,\"Yash\",\"Data\",5,21,True)"
   ]
  },
  {
   "cell_type": "code",
   "execution_count": 5,
   "id": "faa64d7f",
   "metadata": {},
   "outputs": [
    {
     "data": {
      "text/plain": [
       "(1, None, 12, 21, 1, 'Yash', 'Data', 5, 21, True)"
      ]
     },
     "execution_count": 5,
     "metadata": {},
     "output_type": "execute_result"
    }
   ],
   "source": [
    "tup1"
   ]
  },
  {
   "cell_type": "code",
   "execution_count": 7,
   "id": "56ab8a0b",
   "metadata": {},
   "outputs": [
    {
     "name": "stdout",
     "output_type": "stream",
     "text": [
      "3\n"
     ]
    }
   ],
   "source": [
    "print(tup1.count(1))   # count will come three as True will be considered as 1 by Python while allocating the value to memory"
   ]
  },
  {
   "cell_type": "code",
   "execution_count": 10,
   "id": "190b0cbe",
   "metadata": {},
   "outputs": [
    {
     "name": "stdout",
     "output_type": "stream",
     "text": [
      "6\n"
     ]
    }
   ],
   "source": [
    "print(tup1.index(\"Data\"))"
   ]
  },
  {
   "cell_type": "markdown",
   "id": "f0c85b33",
   "metadata": {},
   "source": [
    "**Q3. Which collection datatypes in python do not allow duplicate items? Write a code using a set to remove\n",
    "duplicates from the given list.**\n",
    "\n",
    "List = [1, 1, 1, 2, 1, 3, 1, 4, 2, 1, 2, 2, 2, 3, 2, 4, 3, 1, 3, 2, 3, 3, 3, 4, 4, 1, 4, 2, 4, 3, 4, 4]"
   ]
  },
  {
   "cell_type": "markdown",
   "id": "4a1f2751",
   "metadata": {},
   "source": [
    "Sets are the datatype used to portray all unique elements inside it."
   ]
  },
  {
   "cell_type": "code",
   "execution_count": 11,
   "id": "6965f8bc",
   "metadata": {},
   "outputs": [],
   "source": [
    "List = [1, 1, 1, 2, 1, 3, 1, 4, 2, 1, 2, 2, 2, 3, 2, 4, 3, 1, 3, 2, 3, 3, 3, 4, 4, 1, 4, 2, 4, 3, 4, 4]"
   ]
  },
  {
   "cell_type": "code",
   "execution_count": 12,
   "id": "f732bb13",
   "metadata": {},
   "outputs": [],
   "source": [
    "s = set(List)"
   ]
  },
  {
   "cell_type": "code",
   "execution_count": 14,
   "id": "798ccf38",
   "metadata": {},
   "outputs": [
    {
     "name": "stdout",
     "output_type": "stream",
     "text": [
      "{1, 2, 3, 4}\n"
     ]
    }
   ],
   "source": [
    "print(s)"
   ]
  },
  {
   "cell_type": "markdown",
   "id": "233fa258",
   "metadata": {},
   "source": [
    "**Q4. Explain the difference between the union() and update() methods for a set. Give an example of\n",
    "each method.**"
   ]
  },
  {
   "cell_type": "code",
   "execution_count": 30,
   "id": "474c11f8",
   "metadata": {},
   "outputs": [],
   "source": [
    "s = {21,11,34,5,67,26,67}"
   ]
  },
  {
   "cell_type": "code",
   "execution_count": 31,
   "id": "19ac34fc",
   "metadata": {},
   "outputs": [],
   "source": [
    "s1 = {101,99,21,11,9,2020,67}"
   ]
  },
  {
   "cell_type": "markdown",
   "id": "64152e61",
   "metadata": {},
   "source": [
    "Union operators helps to join all the values from two pair of sets but does not make any changes in the structure of the set."
   ]
  },
  {
   "cell_type": "code",
   "execution_count": 32,
   "id": "437d0c05",
   "metadata": {},
   "outputs": [
    {
     "data": {
      "text/plain": [
       "{5, 9, 11, 21, 26, 34, 67, 99, 101, 2020}"
      ]
     },
     "execution_count": 32,
     "metadata": {},
     "output_type": "execute_result"
    }
   ],
   "source": [
    "s.union(s1)"
   ]
  },
  {
   "cell_type": "code",
   "execution_count": 33,
   "id": "03ca31c8",
   "metadata": {},
   "outputs": [
    {
     "name": "stdout",
     "output_type": "stream",
     "text": [
      "{34, 67, 5, 11, 21, 26}\n"
     ]
    }
   ],
   "source": [
    "print(s)"
   ]
  },
  {
   "cell_type": "markdown",
   "id": "a09a87df",
   "metadata": {},
   "source": [
    "Update operators updates the structure of the set by adding values of another set to it."
   ]
  },
  {
   "cell_type": "code",
   "execution_count": 34,
   "id": "c7d74d57",
   "metadata": {},
   "outputs": [],
   "source": [
    "s.update(s1)"
   ]
  },
  {
   "cell_type": "code",
   "execution_count": 35,
   "id": "17ed7971",
   "metadata": {},
   "outputs": [
    {
     "name": "stdout",
     "output_type": "stream",
     "text": [
      "{34, 67, 99, 5, 2020, 101, 9, 11, 21, 26}\n"
     ]
    }
   ],
   "source": [
    "print(s)"
   ]
  },
  {
   "cell_type": "markdown",
   "id": "bf111da0",
   "metadata": {},
   "source": [
    "**Q5. What is a dictionary? Give an example. Also, state whether a dictionary is ordered or unordered.**"
   ]
  },
  {
   "cell_type": "markdown",
   "id": "424087c4",
   "metadata": {},
   "source": [
    "- Dictionary is a datatype used to store values in key-value pair. It can written using '{}'.\n",
    "- Dictionaries are ordered and mutable in nature."
   ]
  },
  {
   "cell_type": "code",
   "execution_count": 36,
   "id": "7103e676",
   "metadata": {},
   "outputs": [],
   "source": [
    "dic1 = {\"name\":\"Yash\",\n",
    "       \"hobby\":\"Cricket\",\n",
    "        \"Country\" : \"India\"}"
   ]
  },
  {
   "cell_type": "code",
   "execution_count": 37,
   "id": "5417b430",
   "metadata": {},
   "outputs": [
    {
     "name": "stdout",
     "output_type": "stream",
     "text": [
      "{'name': 'Yash', 'hobby': 'Cricket', 'Country': 'India'}\n"
     ]
    }
   ],
   "source": [
    "print(dic1)"
   ]
  },
  {
   "cell_type": "code",
   "execution_count": 38,
   "id": "f243d5a0",
   "metadata": {},
   "outputs": [
    {
     "name": "stdout",
     "output_type": "stream",
     "text": [
      "<class 'dict'>\n"
     ]
    }
   ],
   "source": [
    "print(type(dic1))"
   ]
  },
  {
   "cell_type": "markdown",
   "id": "12017ad9",
   "metadata": {},
   "source": [
    "**Q6. Can we create a nested dictionary? If so, please give an example by creating a simple one-level\n",
    "nested dictionary.**"
   ]
  },
  {
   "cell_type": "code",
   "execution_count": 39,
   "id": "eafc4157",
   "metadata": {},
   "outputs": [],
   "source": [
    "nested_dic = {\"students\" : [\"Yash\",\"Om\",\"Krish\"],\n",
    "             \"marks\" : {\"Maths\" : [21,13,28], \"Science\" :[28,12,21]},\n",
    "             \"roll_no\" : [21,11,19]}"
   ]
  },
  {
   "cell_type": "code",
   "execution_count": 40,
   "id": "e3a90b06",
   "metadata": {},
   "outputs": [
    {
     "name": "stdout",
     "output_type": "stream",
     "text": [
      "{'students': ['Yash', 'Om', 'Krish'], 'marks': {'Maths': [21, 13, 28], 'Science': [28, 12, 21]}, 'roll_no': [21, 11, 19]}\n"
     ]
    }
   ],
   "source": [
    "print(nested_dic)"
   ]
  },
  {
   "cell_type": "markdown",
   "id": "77d7ee89",
   "metadata": {},
   "source": [
    "**Q7. Using setdefault() method, create key named topics in the given dictionary and also add the value of\n",
    "the key as this list**\n",
    "\n",
    "['Python', 'Machine Learning’, 'Deep Learning']"
   ]
  },
  {
   "cell_type": "code",
   "execution_count": 41,
   "id": "64d5f713",
   "metadata": {},
   "outputs": [],
   "source": [
    "dict1 = {'language' : 'Python', 'course': 'Data Science Masters'}"
   ]
  },
  {
   "cell_type": "code",
   "execution_count": 46,
   "id": "9cb7483b",
   "metadata": {},
   "outputs": [],
   "source": [
    "dict1.setdefault(\"Topics\") "
   ]
  },
  {
   "cell_type": "code",
   "execution_count": 50,
   "id": "aa9b1f47",
   "metadata": {},
   "outputs": [],
   "source": [
    "dict1['Topics'] = ['Python', 'Machine Learning', 'Deep Learning']"
   ]
  },
  {
   "cell_type": "code",
   "execution_count": 51,
   "id": "68161315",
   "metadata": {},
   "outputs": [
    {
     "name": "stdout",
     "output_type": "stream",
     "text": [
      "{'language': 'Python', 'course': 'Data Science Masters', 'Topics': ['Python', 'Machine Learning', 'Deep Learning']}\n"
     ]
    }
   ],
   "source": [
    "print(dict1)"
   ]
  },
  {
   "cell_type": "markdown",
   "id": "113f14a4",
   "metadata": {},
   "source": [
    "**Q8. What are the three view objects in dictionaries? Use the three in-built methods in python to display\n",
    "these three view objects for the given dictionary.**\n",
    "\n",
    "dict1 = {'Sport': 'Cricket' , 'Teams': ['India', 'Australia', 'England', 'South Africa', 'Sri Lanka', 'New Zealand']}"
   ]
  },
  {
   "cell_type": "markdown",
   "id": "5fc7ee34",
   "metadata": {},
   "source": [
    "- Keys() : To display all the key items\n",
    "- Values() : To display all the values of key\n",
    "- items() : To display all the key-value pair in list format"
   ]
  },
  {
   "cell_type": "code",
   "execution_count": 53,
   "id": "3e360aca",
   "metadata": {},
   "outputs": [],
   "source": [
    "dict1 = {'Sport': 'Cricket' , 'Teams': ['India', 'Australia', 'England', 'South Africa', 'Sri Lanka', 'New Zealand']}"
   ]
  },
  {
   "cell_type": "code",
   "execution_count": 54,
   "id": "3378099f",
   "metadata": {},
   "outputs": [
    {
     "name": "stdout",
     "output_type": "stream",
     "text": [
      "{'Sport': 'Cricket', 'Teams': ['India', 'Australia', 'England', 'South Africa', 'Sri Lanka', 'New Zealand']}\n"
     ]
    }
   ],
   "source": [
    "print(dict1)"
   ]
  },
  {
   "cell_type": "code",
   "execution_count": 56,
   "id": "875b7fde",
   "metadata": {},
   "outputs": [
    {
     "data": {
      "text/plain": [
       "dict_keys(['Sport', 'Teams'])"
      ]
     },
     "execution_count": 56,
     "metadata": {},
     "output_type": "execute_result"
    }
   ],
   "source": [
    "dict1.keys()"
   ]
  },
  {
   "cell_type": "code",
   "execution_count": 57,
   "id": "510b3b89",
   "metadata": {},
   "outputs": [
    {
     "data": {
      "text/plain": [
       "dict_values(['Cricket', ['India', 'Australia', 'England', 'South Africa', 'Sri Lanka', 'New Zealand']])"
      ]
     },
     "execution_count": 57,
     "metadata": {},
     "output_type": "execute_result"
    }
   ],
   "source": [
    "dict1.values()"
   ]
  },
  {
   "cell_type": "code",
   "execution_count": 58,
   "id": "61c27c33",
   "metadata": {},
   "outputs": [
    {
     "data": {
      "text/plain": [
       "dict_items([('Sport', 'Cricket'), ('Teams', ['India', 'Australia', 'England', 'South Africa', 'Sri Lanka', 'New Zealand'])])"
      ]
     },
     "execution_count": 58,
     "metadata": {},
     "output_type": "execute_result"
    }
   ],
   "source": [
    "dict1.items()"
   ]
  },
  {
   "cell_type": "code",
   "execution_count": null,
   "id": "514d75b2",
   "metadata": {},
   "outputs": [],
   "source": []
  },
  {
   "cell_type": "code",
   "execution_count": null,
   "id": "f388be6e",
   "metadata": {},
   "outputs": [],
   "source": []
  },
  {
   "cell_type": "code",
   "execution_count": null,
   "id": "5fb60960",
   "metadata": {},
   "outputs": [],
   "source": []
  },
  {
   "cell_type": "code",
   "execution_count": null,
   "id": "769a9b07",
   "metadata": {},
   "outputs": [],
   "source": []
  },
  {
   "cell_type": "code",
   "execution_count": null,
   "id": "9585f071",
   "metadata": {},
   "outputs": [],
   "source": []
  }
 ],
 "metadata": {
  "kernelspec": {
   "display_name": "Python 3 (ipykernel)",
   "language": "python",
   "name": "python3"
  },
  "language_info": {
   "codemirror_mode": {
    "name": "ipython",
    "version": 3
   },
   "file_extension": ".py",
   "mimetype": "text/x-python",
   "name": "python",
   "nbconvert_exporter": "python",
   "pygments_lexer": "ipython3",
   "version": "3.8.10"
  }
 },
 "nbformat": 4,
 "nbformat_minor": 5
}
