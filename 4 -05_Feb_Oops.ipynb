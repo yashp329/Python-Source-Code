{
  "nbformat": 4,
  "nbformat_minor": 0,
  "metadata": {
    "colab": {
      "provenance": []
    },
    "kernelspec": {
      "name": "python3",
      "display_name": "Python 3"
    },
    "language_info": {
      "name": "python"
    }
  },
  "cells": [
    {
      "cell_type": "markdown",
      "source": [
        "Q1. Explain Class and Object with respect to Object-Oriented Programming. Give a suitable example."
      ],
      "metadata": {
        "id": "OPVPJ3CTfZ9J"
      }
    },
    {
      "cell_type": "markdown",
      "source": [
        "Python is an Object Oriented Programming Language which uses classes and objects for computation.\n",
        "\n",
        "\n",
        "### CLASS\n",
        "A class is collection of objects. A class can be defined as the blueprint from which objects are created.It is a logical entity which has some methods and attributes.\n",
        "\n",
        "Properties:\n",
        "- Classes are created by keyword class.\n",
        "- Attributes are variables that belong to class.\n",
        "- Attributes are always public and can be accessed by using dot operator.\n",
        "Example : MyClass.MyAttribute\n",
        "\n",
        "\n",
        "### OBJECTS\n",
        "Objects are entity that has state and behaviour associated with it. An object consists of :\n",
        "1. State - It is represented by attribute of an object.It also reflects properties of object.\n",
        "2. Behaviour - It is represented by methods of an object. it also reflects response of an object to other object.\n",
        "3. Identity - It gives an unique name to object and enables one object to interact with another object.\n",
        "\n",
        "To understand the state, behavior, and identity let us take the example of the class dog (explained above). \n",
        "\n",
        "- The identity can be considered as the name of the dog.\n",
        "- State or Attributes can be considered as the breed, age, or color of the dog.\n",
        "- The behavior can be considered as to whether the dog is eating or sleeping"
      ],
      "metadata": {
        "id": "yaPh92zsgXQw"
      }
    },
    {
      "cell_type": "code",
      "source": [
        "class Player:\n",
        "  def __init__(self,first_name,last_name,team):\n",
        "    self.first_name = first_name\n",
        "    self.last_name = last_name\n",
        "    self.team = team\n",
        "    self.scores = []\n",
        "\n",
        "  def add_score(self,score):\n",
        "    return self.scores.append(score)\n",
        "  \n",
        "  def fetch_score(self):\n",
        "    return self.scores\n",
        "\n",
        "  def player_details(self):\n",
        "    return f\"{self.first_name} {self.last_name} plays for {self.team}\"\n"
      ],
      "metadata": {
        "id": "vKL052bOgVnp"
      },
      "execution_count": 1,
      "outputs": []
    },
    {
      "cell_type": "code",
      "source": [
        "virat = Player(\"Virat\",\"Kohli\",\"India\")"
      ],
      "metadata": {
        "id": "2hTA3QBekhiZ"
      },
      "execution_count": 2,
      "outputs": []
    },
    {
      "cell_type": "code",
      "source": [
        "print(virat.first_name)\n",
        "print(virat.last_name)\n",
        "print(virat.team)"
      ],
      "metadata": {
        "colab": {
          "base_uri": "https://localhost:8080/"
        },
        "id": "xACgUHILkuTT",
        "outputId": "c4d8c80b-e39e-4ad2-e4bd-55080526f3b8"
      },
      "execution_count": 3,
      "outputs": [
        {
          "output_type": "stream",
          "name": "stdout",
          "text": [
            "Virat\n",
            "Kohli\n",
            "India\n"
          ]
        }
      ]
    },
    {
      "cell_type": "code",
      "source": [
        "virat.add_score(89)\n",
        "virat.add_score(101)\n",
        "virat.add_score(67)"
      ],
      "metadata": {
        "id": "6wkzgNDklhdL"
      },
      "execution_count": 4,
      "outputs": []
    },
    {
      "cell_type": "code",
      "source": [
        "virat.fetch_score()"
      ],
      "metadata": {
        "colab": {
          "base_uri": "https://localhost:8080/"
        },
        "id": "gkluL2WIlzbu",
        "outputId": "1c8a7d55-50f1-4b7a-f902-d3fb7b7a4fd0"
      },
      "execution_count": 5,
      "outputs": [
        {
          "output_type": "execute_result",
          "data": {
            "text/plain": [
              "[89, 101, 67]"
            ]
          },
          "metadata": {},
          "execution_count": 5
        }
      ]
    },
    {
      "cell_type": "code",
      "source": [
        "virat.player_details()"
      ],
      "metadata": {
        "colab": {
          "base_uri": "https://localhost:8080/",
          "height": 35
        },
        "id": "lUjQ6ncmmFW_",
        "outputId": "68c8c6ff-3dc0-4c6e-a298-47ecaf38b95c"
      },
      "execution_count": 6,
      "outputs": [
        {
          "output_type": "execute_result",
          "data": {
            "text/plain": [
              "'Virat Kohli plays for India'"
            ],
            "application/vnd.google.colaboratory.intrinsic+json": {
              "type": "string"
            }
          },
          "metadata": {},
          "execution_count": 6
        }
      ]
    },
    {
      "cell_type": "markdown",
      "source": [
        "Q2. Name the four pillars of OOPs."
      ],
      "metadata": {
        "id": "GcGv5BglmZi7"
      }
    },
    {
      "cell_type": "markdown",
      "source": [
        "Fours pillars of OOPS:\n",
        "1. Encapsulation\n",
        "2. Inheritance\n",
        "3. Polymorphism\n",
        "4. Abstraction"
      ],
      "metadata": {
        "id": "9fdFDJddu94-"
      }
    },
    {
      "cell_type": "markdown",
      "source": [
        "### ENCAPSULATION\n",
        "It describes idea of wrapping data and methods that works on data within one unit.This puts restriction on accessing variables and methods directly and can prevent accidental modification of data. \n",
        "\n",
        "To accomplish Encapsulation in Python, just follow the convention by prefixing the name of the member by a single underscore “__”."
      ],
      "metadata": {
        "id": "bLq8qYJoveiv"
      }
    },
    {
      "cell_type": "code",
      "source": [
        "\n",
        "# Creating a base class\n",
        "class Base:\n",
        "    def __init__(self):\n",
        " \n",
        "        self.__a = 2\n"
      ],
      "metadata": {
        "id": "CDSPEyrzmaR0"
      },
      "execution_count": 39,
      "outputs": []
    },
    {
      "cell_type": "code",
      "source": [
        "ob1 = Base()"
      ],
      "metadata": {
        "id": "LERbf1iiw2Hz"
      },
      "execution_count": 40,
      "outputs": []
    },
    {
      "cell_type": "code",
      "source": [
        "ob1.__a"
      ],
      "metadata": {
        "colab": {
          "base_uri": "https://localhost:8080/",
          "height": 166
        },
        "id": "rtaQAKEoxdpS",
        "outputId": "8b7fddae-f82f-4027-b179-8e04931d9ec7"
      },
      "execution_count": 9,
      "outputs": [
        {
          "output_type": "error",
          "ename": "AttributeError",
          "evalue": "ignored",
          "traceback": [
            "\u001b[0;31m---------------------------------------------------------------------------\u001b[0m",
            "\u001b[0;31mAttributeError\u001b[0m                            Traceback (most recent call last)",
            "\u001b[0;32m<ipython-input-9-e11ffb29044d>\u001b[0m in \u001b[0;36m<module>\u001b[0;34m\u001b[0m\n\u001b[0;32m----> 1\u001b[0;31m \u001b[0mob1\u001b[0m\u001b[0;34m.\u001b[0m\u001b[0m__a\u001b[0m\u001b[0;34m\u001b[0m\u001b[0;34m\u001b[0m\u001b[0m\n\u001b[0m",
            "\u001b[0;31mAttributeError\u001b[0m: 'Base' object has no attribute '__a'"
          ]
        }
      ]
    },
    {
      "cell_type": "code",
      "source": [
        "ob1._Base__a"
      ],
      "metadata": {
        "colab": {
          "base_uri": "https://localhost:8080/"
        },
        "id": "sVCcE8SYxgln",
        "outputId": "b3574470-1f33-4267-a00d-ece3134bd454"
      },
      "execution_count": 10,
      "outputs": [
        {
          "output_type": "execute_result",
          "data": {
            "text/plain": [
              "2"
            ]
          },
          "metadata": {},
          "execution_count": 10
        }
      ]
    },
    {
      "cell_type": "markdown",
      "source": [
        "### POLYMORPHISM\n",
        "In python, Polymorphism means the same function name being used for different types."
      ],
      "metadata": {
        "id": "jUAHFLhPyS2u"
      }
    },
    {
      "cell_type": "code",
      "source": [
        "class India:\n",
        "  def language(self):\n",
        "    print(\"Hindi is the national language of India\")\n",
        "\n",
        "  def capital(self):\n",
        "    print(\"New Delhi is the capital of India\")\n",
        "\n",
        "  def type(self):\n",
        "    print(\"India is a developing nation\")\n",
        "\n",
        "\n",
        "class UK:\n",
        "  def language(self):\n",
        "    print(\"English is the national language of UK\")\n",
        "\n",
        "  def capital(self):\n",
        "    print(\"London is the capital of UK\")\n",
        "\n",
        "  def type(self):\n",
        "    print(\"UK is a developed nation\")\n",
        "\n",
        "class USA:\n",
        "  def language(self):\n",
        "    print(\"English is the national language of USA\")\n",
        "\n",
        "  def capital(self):\n",
        "    print(\"Washington is the capital of USA\")\n",
        "\n",
        "  def type(self):\n",
        "    print(\"USA is a developed nation\")"
      ],
      "metadata": {
        "id": "3O4aBvSXxkeY"
      },
      "execution_count": 11,
      "outputs": []
    },
    {
      "cell_type": "code",
      "source": [
        "obj_ind = India()\n",
        "obj_uk = UK()\n",
        "obj_us = USA()\n",
        "\n",
        "for country in (obj_ind,obj_uk,obj_us):\n",
        "  country.language()\n",
        "  country.capital()\n",
        "  country.type()\n",
        "  print(\"\\n\")"
      ],
      "metadata": {
        "colab": {
          "base_uri": "https://localhost:8080/"
        },
        "id": "7LY3Z5RCzalz",
        "outputId": "e3ecca44-6d7f-40db-e59a-d12b724a7210"
      },
      "execution_count": 12,
      "outputs": [
        {
          "output_type": "stream",
          "name": "stdout",
          "text": [
            "Hindi is the national language of India\n",
            "New Delhi is the capital of India\n",
            "India is a developing nation\n",
            "\n",
            "\n",
            "English is the national language of UK\n",
            "London is the capital of UK\n",
            "UK is a developed nation\n",
            "\n",
            "\n",
            "English is the national language of USA\n",
            "Washington is the capital of USA\n",
            "USA is a developed nation\n",
            "\n",
            "\n"
          ]
        }
      ]
    },
    {
      "cell_type": "markdown",
      "source": [
        "### Inheritance\n",
        "It is a mechanism that allows you to create hiearchy of class that share set of properties and methods by deriving a class from another class.\n"
      ],
      "metadata": {
        "id": "7kcMyGQz0PKH"
      }
    },
    {
      "cell_type": "code",
      "source": [
        "class Player:\n",
        "  def __init__(self,fname,lname,age,country):\n",
        "    self.first_name = fname\n",
        "    self.last_name = lname\n",
        "    self.age = age\n",
        "    self.country = country\n",
        " \n",
        "  def player_details(self):\n",
        "    return self.first_name,self.last_name,self.age,self.country\n",
        "\n",
        "class Cricketer(Player):\n",
        "  def __init__(self,first_name,last_name,age,country):\n",
        "    self.scores = []\n",
        "    Player.__init__(self,first_name,last_name,age,country)\n",
        "\n",
        "  def add_score(self,score):\n",
        "    return self.scores.append(score)\n",
        "  \n",
        "  def get_score(self):\n",
        "    return self.scores"
      ],
      "metadata": {
        "id": "DBRo1wXEz3U3"
      },
      "execution_count": 13,
      "outputs": []
    },
    {
      "cell_type": "code",
      "source": [
        "virat = Cricketer(\"Virat\",\"Kohli\",34,\"India\")"
      ],
      "metadata": {
        "id": "I9KeGXmz2vy_"
      },
      "execution_count": 14,
      "outputs": []
    },
    {
      "cell_type": "code",
      "source": [
        "virat.player_details()"
      ],
      "metadata": {
        "colab": {
          "base_uri": "https://localhost:8080/"
        },
        "id": "LeiwEsw03AH5",
        "outputId": "2cc4daad-016a-4b1b-822e-6c3a0a510089"
      },
      "execution_count": 15,
      "outputs": [
        {
          "output_type": "execute_result",
          "data": {
            "text/plain": [
              "('Virat', 'Kohli', 34, 'India')"
            ]
          },
          "metadata": {},
          "execution_count": 15
        }
      ]
    },
    {
      "cell_type": "code",
      "source": [
        "virat.add_score(89)\n",
        "virat.add_score(99)\n",
        "virat.add_score(189)"
      ],
      "metadata": {
        "id": "PxMe2in73RLZ"
      },
      "execution_count": 16,
      "outputs": []
    },
    {
      "cell_type": "code",
      "source": [
        "virat.get_score()"
      ],
      "metadata": {
        "colab": {
          "base_uri": "https://localhost:8080/"
        },
        "id": "3T3fZLVG3XGw",
        "outputId": "6680fde2-0c23-4a56-c7f8-19e8f062da21"
      },
      "execution_count": 17,
      "outputs": [
        {
          "output_type": "execute_result",
          "data": {
            "text/plain": [
              "[89, 99, 189]"
            ]
          },
          "metadata": {},
          "execution_count": 17
        }
      ]
    },
    {
      "cell_type": "markdown",
      "source": [
        "### ABSTRACTION\n",
        "Abstraction is the process of hiding the implementation details from the user, only the highlighted set of services are provided to the user.\n",
        "\n",
        "Example : We have created addition function in first.py file and subtraction method in second.py file. User wants to use the services of function of addition and subtraction in another file which main.py file. User can simple import first and second file name and use both add and sub functions.\n",
        "\n",
        "Abstraction can be done using:\n",
        "1. Abstract class\n",
        "2. Interface\n",
        "\n"
      ],
      "metadata": {
        "id": "4Usig78Jc7aL"
      }
    },
    {
      "cell_type": "code",
      "source": [
        "from abc import ABC, abstractmethod\n",
        "\n",
        "class Shape(ABC):\n",
        "  @abstractmethod\n",
        "  def printarea(self):\n",
        "    return 0\n",
        "\n",
        "class Rectangle(Shape):\n",
        "  type = \"Rectangle\"\n",
        "  sides = 4\n",
        "\n",
        "  def __init__(self):\n",
        "    self.length = 6\n",
        "    self.breadth = 4\n",
        "\n",
        "  def printarea(self):\n",
        "    return self.length*self.breadth\n",
        "\n",
        "obj1 = Rectangle()\n",
        "obj1.printarea()"
      ],
      "metadata": {
        "colab": {
          "base_uri": "https://localhost:8080/"
        },
        "id": "uZgCPn21f46y",
        "outputId": "292dab40-972c-40c4-f7e4-d4cd27587f9b"
      },
      "execution_count": 44,
      "outputs": [
        {
          "output_type": "execute_result",
          "data": {
            "text/plain": [
              "24"
            ]
          },
          "metadata": {},
          "execution_count": 44
        }
      ]
    },
    {
      "cell_type": "markdown",
      "source": [
        "Q3. Explain why the __init__() function is used. Give a suitable example."
      ],
      "metadata": {
        "id": "e_DkNDF64M-0"
      }
    },
    {
      "cell_type": "markdown",
      "source": [
        "All classes have a function called init() function which is always executed when the class is initiated.\n",
        "\n",
        "We use init() function to assign values to object properties or other operations which are necessary when object is created. "
      ],
      "metadata": {
        "id": "gAEWRBLQ4iZv"
      }
    },
    {
      "cell_type": "markdown",
      "source": [
        "Q4. Why self is used in OOPs?"
      ],
      "metadata": {
        "id": "6gNXqzlz5GsJ"
      }
    },
    {
      "cell_type": "markdown",
      "source": [
        "Self represents instance of the class.By using self we can access attributes and methods with class in Python.\n",
        "\n",
        "The reason you need is self is because Python does not use @syntax to refer to instance attributes."
      ],
      "metadata": {
        "id": "1s81U75Z5JwO"
      }
    },
    {
      "cell_type": "markdown",
      "source": [
        "Q5. What is inheritance? Give an example for each type of inheritance.\n",
        "\n",
        "It is a mechanism that allows you to create hiearchy of class that share set of properties and methods by deriving a class from another class."
      ],
      "metadata": {
        "id": "8ut9tzbA6ES-"
      }
    },
    {
      "cell_type": "code",
      "source": [
        "class Player:\n",
        "  def __init__(self,fname,lname,age,country):\n",
        "    self.first_name = fname\n",
        "    self.last_name = lname\n",
        "    self.age = age\n",
        "    self.country = country\n",
        " \n",
        "  def player_details(self):\n",
        "    return self.first_name,self.last_name,self.age,self.country\n",
        "\n",
        "class Cricketer(Player):\n",
        "  def __init__(self,first_name,last_name,age,country):\n",
        "    self.scores = []\n",
        "    Player.__init__(self,first_name,last_name,age,country)\n",
        "\n",
        "  def add_score(self,score):\n",
        "    return self.scores.append(score)\n",
        "  \n",
        "  def get_score(self):\n",
        "    return self.scores"
      ],
      "metadata": {
        "id": "AHrl7ou33Zcc"
      },
      "execution_count": 18,
      "outputs": []
    },
    {
      "cell_type": "code",
      "source": [
        "virat = Cricketer(\"Virat\",\"Kohli\",34,\"India\")"
      ],
      "metadata": {
        "id": "BVN4I_GI6RRn"
      },
      "execution_count": 19,
      "outputs": []
    },
    {
      "cell_type": "code",
      "source": [
        "virat.player_details()"
      ],
      "metadata": {
        "colab": {
          "base_uri": "https://localhost:8080/"
        },
        "id": "x8HhqgjM6Uh_",
        "outputId": "08fbb368-b8f3-4c48-c66b-a8f860be0c5f"
      },
      "execution_count": 20,
      "outputs": [
        {
          "output_type": "execute_result",
          "data": {
            "text/plain": [
              "('Virat', 'Kohli', 34, 'India')"
            ]
          },
          "metadata": {},
          "execution_count": 20
        }
      ]
    },
    {
      "cell_type": "code",
      "source": [
        "virat.add_score(89)\n",
        "virat.add_score(99)\n",
        "virat.add_score(189)"
      ],
      "metadata": {
        "id": "P9jgp_gi6WVc"
      },
      "execution_count": 21,
      "outputs": []
    },
    {
      "cell_type": "code",
      "source": [
        "virat.get_score()"
      ],
      "metadata": {
        "colab": {
          "base_uri": "https://localhost:8080/"
        },
        "id": "VLLa1yop6YoW",
        "outputId": "973a4df8-469c-4bca-9de0-a3cedb430481"
      },
      "execution_count": 22,
      "outputs": [
        {
          "output_type": "execute_result",
          "data": {
            "text/plain": [
              "[89, 99, 189]"
            ]
          },
          "metadata": {},
          "execution_count": 22
        }
      ]
    },
    {
      "cell_type": "code",
      "source": [],
      "metadata": {
        "id": "_pOFwn-c6aiW"
      },
      "execution_count": 22,
      "outputs": []
    },
    {
      "cell_type": "markdown",
      "source": [
        "There are four types of inheritance in Python.\n",
        "1. Single Inheritance\n",
        "2. Multiple Inheritance\n",
        "3. Multilevel Inheritance\n",
        "4. Hierarchical Inheritance\n",
        "5. Hybrid Inheritance"
      ],
      "metadata": {
        "id": "nCtibLnlM6b6"
      }
    },
    {
      "cell_type": "markdown",
      "source": [
        "### SINGLE INHERITANCE\n",
        "\n",
        "Single inheritance enables derived class to inherit properties from a single parent class, thus enabling code resuability and addition of new feature to existing code.\n",
        "\n"
      ],
      "metadata": {
        "id": "2hWU-geyNs0z"
      }
    },
    {
      "cell_type": "code",
      "source": [
        "class Parent:\n",
        "  def func1(self):\n",
        "    print(\"This is function of a parent class\")\n",
        "\n",
        "class Child(Parent):\n",
        "  def func2(self):\n",
        "    print(\"This is function of a child class\")\n",
        "\n",
        "obj = Child()\n",
        "obj.func1()\n",
        "obj.func2()"
      ],
      "metadata": {
        "colab": {
          "base_uri": "https://localhost:8080/"
        },
        "id": "SVJcnZjONnRw",
        "outputId": "a25c43f6-f4b8-4bdb-a526-c9be93c67630"
      },
      "execution_count": 24,
      "outputs": [
        {
          "output_type": "stream",
          "name": "stdout",
          "text": [
            "This is function of a parent class\n",
            "This is function of a child class\n"
          ]
        }
      ]
    },
    {
      "cell_type": "markdown",
      "source": [
        "### MULTIPLE INHERITANCE\n",
        "When a class can be derived from more than one base class it is called Multiple Inheritance."
      ],
      "metadata": {
        "id": "Mp1OOQADOoyh"
      }
    },
    {
      "cell_type": "code",
      "source": [
        "class Mother:\n",
        "  mothername = \"\"\n",
        "\n",
        "  def mother(self):\n",
        "    return self.mothername\n",
        "\n",
        "class Father:\n",
        "  fathername = \"\"\n",
        "\n",
        "  def father(self):\n",
        "    return self.fathername\n",
        "\n",
        "class Son(Mother, Father):\n",
        "  def parents(self):\n",
        "    print(\"Father \",self.fathername)\n",
        "    print(\"Mother \",self.mothername)\n",
        "\n",
        "s1 = Son()\n",
        "s1.fathername = \"Ram\"\n",
        "s1.mothername = \"Geeta\"\n",
        "s1.parents()"
      ],
      "metadata": {
        "colab": {
          "base_uri": "https://localhost:8080/"
        },
        "id": "rhUQaZ6NOfOb",
        "outputId": "8fbdeea8-792f-4365-f38d-e878986cf664"
      },
      "execution_count": 25,
      "outputs": [
        {
          "output_type": "stream",
          "name": "stdout",
          "text": [
            "Father  Ram\n",
            "Mother  Geeta\n"
          ]
        }
      ]
    },
    {
      "cell_type": "markdown",
      "source": [
        "### MULTILEVEL INHERITANCE\n",
        "In multilevel inheritance, features of base class and derived class are further inherited into new derived class."
      ],
      "metadata": {
        "id": "gH_Rjuj1P5gx"
      }
    },
    {
      "cell_type": "code",
      "source": [
        "class GrandFather:\n",
        "  def __init__(self,grandfather):\n",
        "    self.grandfather = grandfather\n",
        "\n",
        "class Father(GrandFather):\n",
        "  def __init__(self,father,grandfather):\n",
        "    self.father = father\n",
        "    GrandFather.__init__(self,grandfather)\n",
        "\n",
        "class Son(Father):\n",
        "  def __init__(self,son,father,grandfather):\n",
        "    self.son = son\n",
        "    Father.__init__(self,father,grandfather)\n",
        "\n",
        "  def family(self):\n",
        "    print(\"Grandfather : \",self.grandfather)\n",
        "    print(\"Father : \",self.father)\n",
        "    print(\"Son : \",self.son)"
      ],
      "metadata": {
        "id": "AxcnriYpPy9d"
      },
      "execution_count": 28,
      "outputs": []
    },
    {
      "cell_type": "code",
      "source": [
        "son = Son(\"Kamran\",\"Gudhvardhan\",\"Sakura\")\n",
        "print(son.grandfather)\n",
        "print(son.father)\n",
        "print(son.son)\n",
        "print(\"\\n\")\n",
        "son.family()"
      ],
      "metadata": {
        "colab": {
          "base_uri": "https://localhost:8080/"
        },
        "id": "ny1dLG-URYD-",
        "outputId": "14f6a4b9-6aed-4a17-c71d-8eb397fa20c9"
      },
      "execution_count": 31,
      "outputs": [
        {
          "output_type": "stream",
          "name": "stdout",
          "text": [
            "Sakura\n",
            "Gudhvardhan\n",
            "Kamran\n",
            "\n",
            "\n",
            "Grandfather :  Sakura\n",
            "Father :  Gudhvardhan\n",
            "Son :  Kamran\n"
          ]
        }
      ]
    },
    {
      "cell_type": "markdown",
      "source": [
        "### HIEARCHICAL INHERITANCE\n",
        "When more than one derived class are created from one base class it is called Hierarchical inheritance."
      ],
      "metadata": {
        "id": "HR1-Ncz2SNWA"
      }
    },
    {
      "cell_type": "code",
      "source": [
        "class Parent:\n",
        "  def func1(self):\n",
        "    print(\"This is a function of parent class\")\n",
        "\n",
        "class Child1(Parent):\n",
        "  def func2(self):\n",
        "    print(\"This is a function of child 1 class\")\n",
        "\n",
        "\n",
        "class Child2(Parent):\n",
        "  def func3(self):\n",
        "    print(\"This is a function of child 2 class\")\n",
        "\n",
        "\n",
        "class Child3(Parent):\n",
        "  def func4(self):\n",
        "    print(\"This is a function of child 3 class\")"
      ],
      "metadata": {
        "id": "S1Gd-5A2RxU5"
      },
      "execution_count": 34,
      "outputs": []
    },
    {
      "cell_type": "code",
      "source": [
        "child1 = Child1()\n",
        "child2 = Child2()\n",
        "child3 = Child3()\n",
        "\n",
        "child1.func1()\n",
        "child1.func2()\n",
        "print(\"\\n\")\n",
        "child2.func1()\n",
        "child2.func3()\n",
        "print(\"\\n\")\n",
        "child3.func1()\n",
        "child3.func4()"
      ],
      "metadata": {
        "colab": {
          "base_uri": "https://localhost:8080/"
        },
        "id": "QNNZjaNVS2wa",
        "outputId": "b3dbecd6-5e47-4d70-c53a-4c1674f960ea"
      },
      "execution_count": 37,
      "outputs": [
        {
          "output_type": "stream",
          "name": "stdout",
          "text": [
            "This is a function of parent class\n",
            "This is a function of child 1 class\n",
            "\n",
            "\n",
            "This is a function of parent class\n",
            "This is a function of child 2 class\n",
            "\n",
            "\n",
            "This is a function of parent class\n",
            "This is a function of child 3 class\n"
          ]
        }
      ]
    },
    {
      "cell_type": "markdown",
      "source": [
        "### HYBRID INHERITANCE\n",
        "Inheritance consisting of different types of inheritances is called Hybrid Inheritance."
      ],
      "metadata": {
        "id": "YL-bJsSHTj0f"
      }
    },
    {
      "cell_type": "code",
      "source": [
        "class School:\n",
        "    def func1(self):\n",
        "        print(\"This function is in school.\")\n",
        " \n",
        " \n",
        "class Student1(School):\n",
        "    def func2(self):\n",
        "        print(\"This function is in student 1. \")\n",
        " \n",
        " \n",
        "class Student2(School):\n",
        "    def func3(self):\n",
        "        print(\"This function is in student 2.\")\n",
        " \n",
        " \n",
        "class Student3(Student1, School):\n",
        "    def func4(self):\n",
        "        print(\"This function is in student 3.\")\n",
        "\n",
        "\n",
        "object3 = Student3()\n",
        "object3.func1()\n",
        "object3.func2()\n",
        "object3.func4()"
      ],
      "metadata": {
        "colab": {
          "base_uri": "https://localhost:8080/"
        },
        "id": "K0Ehn9kFTVqK",
        "outputId": "1e54b2bf-4c8f-4384-8192-3594c171bf91"
      },
      "execution_count": 38,
      "outputs": [
        {
          "output_type": "stream",
          "name": "stdout",
          "text": [
            "This function is in school.\n",
            "This function is in student 1. \n",
            "This function is in student 3.\n"
          ]
        }
      ]
    },
    {
      "cell_type": "code",
      "source": [],
      "metadata": {
        "id": "HYnxxtGrUF2y"
      },
      "execution_count": null,
      "outputs": []
    }
  ]
}