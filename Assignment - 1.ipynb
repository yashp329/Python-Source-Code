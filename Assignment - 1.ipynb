{
 "cells": [
  {
   "cell_type": "markdown",
   "id": "b3665bc5",
   "metadata": {},
   "source": [
    "**1. Who developed Python Programming Language?**"
   ]
  },
  {
   "cell_type": "markdown",
   "id": "ecb6936e",
   "metadata": {},
   "source": [
    "It was initially designed by Guido van Rossum in 1991 and developed by Python Software Development."
   ]
  },
  {
   "cell_type": "markdown",
   "id": "142eb068",
   "metadata": {},
   "source": [
    "**2. Which type of Programming does Python support?**"
   ]
  },
  {
   "cell_type": "markdown",
   "id": "6dee5715",
   "metadata": {},
   "source": [
    "Python is a programming language that supports Object Oriented Programming."
   ]
  },
  {
   "cell_type": "markdown",
   "id": "481f81a5",
   "metadata": {},
   "source": [
    "**3. Is Python case sensitive when dealing with identifiers?**"
   ]
  },
  {
   "cell_type": "markdown",
   "id": "f3a87f1e",
   "metadata": {},
   "source": [
    "Yes, Python is case sensitive when dealing with identifiers."
   ]
  },
  {
   "cell_type": "markdown",
   "id": "aa507e7f",
   "metadata": {},
   "source": [
    "**4. What is the correct extension of the Python file?**"
   ]
  },
  {
   "cell_type": "markdown",
   "id": "e1f5c926",
   "metadata": {},
   "source": [
    "\".py\" is the appropriate extension for a Python file."
   ]
  },
  {
   "cell_type": "markdown",
   "id": "71be5a7b",
   "metadata": {},
   "source": [
    "**5. Is Python code compiled or interpreted?**"
   ]
  },
  {
   "cell_type": "markdown",
   "id": "e8416010",
   "metadata": {},
   "source": [
    "Python code is interpreted."
   ]
  },
  {
   "cell_type": "markdown",
   "id": "225bb143",
   "metadata": {},
   "source": [
    "**6. Name a few blocks of code used to define in Python language?**"
   ]
  },
  {
   "cell_type": "markdown",
   "id": "c96513f8",
   "metadata": {},
   "source": [
    "Below are few sample codes in Python:\n",
    "1. print(\"Hello World!!!\")\n",
    "2. if condition:  print(Body)\n",
    "3. def function:\n",
    "pass"
   ]
  },
  {
   "cell_type": "markdown",
   "id": "4d31be21",
   "metadata": {},
   "source": [
    "**7. State a character used to give single-line comments in Python?** "
   ]
  },
  {
   "cell_type": "markdown",
   "id": "ec813ca5",
   "metadata": {},
   "source": [
    "There are two types of comments in Python:\n",
    "1. Single Line Comment (Written using #)\n",
    "2. Multi Line Comment (Written using \"\"\"comment\"\"\")"
   ]
  },
  {
   "cell_type": "markdown",
   "id": "09bb8cd7",
   "metadata": {},
   "source": [
    "**8. Mention functions which can help us to find the version of python that we are currently working on?** "
   ]
  },
  {
   "cell_type": "markdown",
   "id": "f409cd8d",
   "metadata": {},
   "source": [
    "To find the version of Python you are currently working on you can implement two below code in your command prompt:\n",
    "1. python --version\n",
    "2. python"
   ]
  },
  {
   "cell_type": "markdown",
   "id": "478e9122",
   "metadata": {},
   "source": [
    "**9. Python supports the creation of anonymous functions at runtime, using a construct called**"
   ]
  },
  {
   "cell_type": "markdown",
   "id": "0fe20f3f",
   "metadata": {},
   "source": [
    "Python supports the creation of anonymous functions at runtime, using a construct called Lambda."
   ]
  },
  {
   "cell_type": "markdown",
   "id": "7c28d7a8",
   "metadata": {},
   "source": [
    "**10. What does pip stand for python?**"
   ]
  },
  {
   "cell_type": "markdown",
   "id": "aca41f5a",
   "metadata": {},
   "source": [
    "Pip stands for Preferred Installer Program.Pip is package manager for Python. We can install various external modules into the system using pip."
   ]
  },
  {
   "cell_type": "markdown",
   "id": "d4bbd750",
   "metadata": {},
   "source": [
    "**11. Mention a few built-in functions in python?**"
   ]
  },
  {
   "cell_type": "markdown",
   "id": "b702aa9d",
   "metadata": {},
   "source": [
    "1. type()\n",
    "2. print()\n",
    "3. len()\n",
    "4. min()\n",
    "5. max()"
   ]
  },
  {
   "cell_type": "markdown",
   "id": "1692159e",
   "metadata": {},
   "source": [
    "**12. What is the maximum possible length of an identifier in Python?**"
   ]
  },
  {
   "cell_type": "markdown",
   "id": "e5eb5425",
   "metadata": {},
   "source": [
    "The maximum possible length of an indentifier in Python is 79 characters."
   ]
  },
  {
   "cell_type": "markdown",
   "id": "91cbe5b8",
   "metadata": {},
   "source": [
    "**13. What are the benefits of using Python?** "
   ]
  },
  {
   "cell_type": "markdown",
   "id": "96a227d3",
   "metadata": {},
   "source": [
    "Benefits of Python:\n",
    "1. Easy to read and understand\n",
    "2. Less development time\n",
    "3. Open source"
   ]
  },
  {
   "cell_type": "markdown",
   "id": "8f448d28",
   "metadata": {},
   "source": [
    "**14. How is memory managed in Python?** "
   ]
  },
  {
   "cell_type": "markdown",
   "id": "639b7be0",
   "metadata": {},
   "source": [
    "Python has a private heap that stores our program’s objects and data structures. Python memory manager takes care of the bulk of the memory management work and allows us to concentrate on our code."
   ]
  },
  {
   "cell_type": "markdown",
   "id": "c16313c4",
   "metadata": {},
   "source": [
    "**15. How to install Python on Windows and set path variables?**  "
   ]
  },
  {
   "cell_type": "markdown",
   "id": "58dded56",
   "metadata": {},
   "source": [
    "First, we need to locate where the python is being installed after downloading it. Press WINDOWS key and search for “Python”, you will get something like this:\n",
    "\n",
    "Add Python to Windows Path\n",
    "\n",
    "\n",
    "If no results appear then Python is not installed on your machine, download it before proceeding further. Click on open file location and you will be in a location where Python is installed, Copy the location path from the top by clicking over it.\n",
    "\n",
    "Add Python to Windows Path\n",
    "\n",
    "Now, we have to add the above-copied path as a variable so that windows can recognize. Search for “Environmental Variables”, you will see something like this:\n",
    "\n",
    "\n",
    "\n",
    "Add Python to Windows Path\n",
    "\n",
    "Click on that\n",
    "\n",
    "Add Python to Windows Path\n",
    "\n",
    "Now click the “Environmental Variables” button\n",
    "\n",
    "Add Python to Windows Path\n",
    "\n",
    "There will be two categories namely “User” and “System”, we have to add it in Users, click on New button in the User section. Now, add a Variable Name and Path which we copied previously and click OK. That’s it, DONE!\n",
    "\n",
    "\n",
    "\n",
    "Check if the Environment variable is set or not\n",
    "\n",
    "Now, after adding the Python to the Environment variable, let’s check if the Python is running anywhere in the windows or not. To do this open CMD and type Python. If the environment variable is set then the Python command will run otherwise not.\n",
    "\n"
   ]
  },
  {
   "cell_type": "markdown",
   "id": "f5471ecc",
   "metadata": {},
   "source": [
    "**16. Is indentation required in python?**"
   ]
  },
  {
   "cell_type": "markdown",
   "id": "9eb49a72",
   "metadata": {},
   "source": [
    "Yes, identation is must in Python Programming"
   ]
  },
  {
   "cell_type": "code",
   "execution_count": null,
   "id": "007e564a",
   "metadata": {},
   "outputs": [],
   "source": []
  },
  {
   "cell_type": "code",
   "execution_count": null,
   "id": "fdd31447",
   "metadata": {},
   "outputs": [],
   "source": []
  }
 ],
 "metadata": {
  "kernelspec": {
   "display_name": "Python 3 (ipykernel)",
   "language": "python",
   "name": "python3"
  },
  "language_info": {
   "codemirror_mode": {
    "name": "ipython",
    "version": 3
   },
   "file_extension": ".py",
   "mimetype": "text/x-python",
   "name": "python",
   "nbconvert_exporter": "python",
   "pygments_lexer": "ipython3",
   "version": "3.8.10"
  }
 },
 "nbformat": 4,
 "nbformat_minor": 5
}
