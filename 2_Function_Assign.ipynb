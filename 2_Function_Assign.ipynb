{
  "nbformat": 4,
  "nbformat_minor": 0,
  "metadata": {
    "colab": {
      "provenance": []
    },
    "kernelspec": {
      "name": "python3",
      "display_name": "Python 3"
    },
    "language_info": {
      "name": "python"
    },
    "accelerator": "GPU",
    "gpuClass": "standard"
  },
  "cells": [
    {
      "cell_type": "markdown",
      "source": [
        "Q1. Which keyword is used to create a function? Create a function to return a list of odd numbers in the\n",
        "range of 1 to 25."
      ],
      "metadata": {
        "id": "CAfD7a63NKYi"
      }
    },
    {
      "cell_type": "markdown",
      "source": [
        "- def keyword is used to initiate the function inside Python"
      ],
      "metadata": {
        "id": "3CoQ0_0jNT2X"
      }
    },
    {
      "cell_type": "code",
      "source": [
        "def odd_num():\n",
        "  odd_list = []\n",
        "  for i in range(1,26):\n",
        "    if i%2==0:\n",
        "      continue\n",
        "    else:\n",
        "      odd_list.append(i)\n",
        "  return odd_list"
      ],
      "metadata": {
        "id": "lkyIr_myNSq7"
      },
      "execution_count": 2,
      "outputs": []
    },
    {
      "cell_type": "code",
      "source": [
        "odd_num()"
      ],
      "metadata": {
        "colab": {
          "base_uri": "https://localhost:8080/"
        },
        "id": "IThFlD8nNwlE",
        "outputId": "d85d37a4-037d-4ebd-877c-1fde00203e3a"
      },
      "execution_count": 3,
      "outputs": [
        {
          "output_type": "execute_result",
          "data": {
            "text/plain": [
              "[1, 3, 5, 7, 9, 11, 13, 15, 17, 19, 21, 23, 25]"
            ]
          },
          "metadata": {},
          "execution_count": 3
        }
      ]
    },
    {
      "cell_type": "markdown",
      "source": [
        "Q2. Why *args and kwargs is used in some functions? Create a function each for args and kwargs to demonstrate their use.*\n",
        "\n",
        "- *args (Non-Keyword Arguments)\n",
        "- **kwargs\" (Keyword Arguments)\n",
        "\n",
        "If you do not know how many arguments that will be passed into your function, add a * before the parameter name in the function definition.\n",
        "\n",
        "If you do not know how many keyword arguments that will be passed into your function, add two asterisk: ** before the parameter name in the function definition."
      ],
      "metadata": {
        "id": "Ijbtlcn-N39J"
      }
    },
    {
      "cell_type": "code",
      "source": [
        "def summation(*args):\n",
        "  return sum(args)"
      ],
      "metadata": {
        "id": "TN5eFCrTNyth"
      },
      "execution_count": 4,
      "outputs": []
    },
    {
      "cell_type": "code",
      "source": [
        "summation(1,2,3,4,4,6,7,8,9,10)"
      ],
      "metadata": {
        "colab": {
          "base_uri": "https://localhost:8080/"
        },
        "id": "yrJ7b9CvOPrQ",
        "outputId": "2f8bbdfa-788c-4011-9805-4e5268f6c8f3"
      },
      "execution_count": 5,
      "outputs": [
        {
          "output_type": "execute_result",
          "data": {
            "text/plain": [
              "54"
            ]
          },
          "metadata": {},
          "execution_count": 5
        }
      ]
    },
    {
      "cell_type": "code",
      "source": [
        "def func(**kwargs):\n",
        "  return kwargs"
      ],
      "metadata": {
        "id": "6HVjZfbPOT7L"
      },
      "execution_count": 6,
      "outputs": []
    },
    {
      "cell_type": "code",
      "source": [
        "func(name = 'Yash', id = '12344')"
      ],
      "metadata": {
        "colab": {
          "base_uri": "https://localhost:8080/"
        },
        "id": "8IyyXSN4Ocp2",
        "outputId": "db8335d5-9661-4698-ae89-9cc7669704f3"
      },
      "execution_count": 7,
      "outputs": [
        {
          "output_type": "execute_result",
          "data": {
            "text/plain": [
              "{'name': 'Yash', 'id': '12344'}"
            ]
          },
          "metadata": {},
          "execution_count": 7
        }
      ]
    },
    {
      "cell_type": "markdown",
      "source": [
        "Q3. What is an iterator in python? Name the method used to initialise the iterator object and the method\n",
        "used for iteration. Use these methods to print the first five elements of the given list [2, 4, 6, 8, 10, 12, 14, 16,\n",
        "18, 20]."
      ],
      "metadata": {
        "id": "kp8WkykGOkIY"
      }
    },
    {
      "cell_type": "markdown",
      "source": [
        "Lists, tuples, dictionaries, and sets are all iterable objects. They are iterable containers which you can get an iterator from.\n",
        "\n",
        "All these objects have a iter() method which is used to get an iterator:"
      ],
      "metadata": {
        "id": "MMC1NhvWOmMo"
      }
    },
    {
      "cell_type": "code",
      "source": [
        "lst = [2, 4, 6, 8, 10, 12, 14, 16, 18, 20]"
      ],
      "metadata": {
        "id": "KylolOMfOgxH"
      },
      "execution_count": 8,
      "outputs": []
    },
    {
      "cell_type": "code",
      "source": [
        "myit = iter(lst)\n",
        "\n",
        "for i in range(5):\n",
        "  print(next(myit), end = \" \")"
      ],
      "metadata": {
        "colab": {
          "base_uri": "https://localhost:8080/"
        },
        "id": "iRZuZnQIOtCd",
        "outputId": "4f21d054-7c44-4e93-daff-dce8ac40f3bc"
      },
      "execution_count": 9,
      "outputs": [
        {
          "output_type": "stream",
          "name": "stdout",
          "text": [
            "2 4 6 8 10 "
          ]
        }
      ]
    },
    {
      "cell_type": "markdown",
      "source": [
        "Q4. What is a generator function in python? Why yield keyword is used? Give an example of a generator\n",
        "function.\n"
      ],
      "metadata": {
        "id": "9FpKCMqzPK8g"
      }
    },
    {
      "cell_type": "markdown",
      "source": [
        "A generator function is used like a normal function,but whenever it has to generate values it does with yield keyword rather than return keyword. If the body of def function contains yield keyword it automatically becomes a generator function.\n",
        "\n",
        "The yield keyword will turn any expression that is given with it into a generator object and return it to the caller. Therefore, you must iterate over the generator object if you wish to obtain the values stored there."
      ],
      "metadata": {
        "id": "CiIg1z2NPPqo"
      }
    },
    {
      "cell_type": "code",
      "source": [
        "def simpleGenerator():\n",
        "  yield 1\n",
        "  yield 2\n",
        "  yield 3"
      ],
      "metadata": {
        "id": "6zDA_VMGPCYs"
      },
      "execution_count": 10,
      "outputs": []
    },
    {
      "cell_type": "code",
      "source": [
        "for i in simpleGenerator():\n",
        "  print(i)"
      ],
      "metadata": {
        "colab": {
          "base_uri": "https://localhost:8080/"
        },
        "id": "VKluORY6RHuy",
        "outputId": "45d9507f-f833-4f33-90f3-28cec1ad4ff6"
      },
      "execution_count": 11,
      "outputs": [
        {
          "output_type": "stream",
          "name": "stdout",
          "text": [
            "1\n",
            "2\n",
            "3\n"
          ]
        }
      ]
    },
    {
      "cell_type": "code",
      "source": [
        "def myFunc():\n",
        "  yield \"Hello World!!!!\"\n",
        "  yield \"I am the best Data Scientist\""
      ],
      "metadata": {
        "id": "RUz5abyARLyf"
      },
      "execution_count": 12,
      "outputs": []
    },
    {
      "cell_type": "code",
      "source": [
        "print(type(myFunc))\n",
        "\n",
        "for i in myFunc():\n",
        "  print(i)"
      ],
      "metadata": {
        "colab": {
          "base_uri": "https://localhost:8080/"
        },
        "id": "zG6BVQm1RXPi",
        "outputId": "191315a6-8d1d-423a-e1f8-57db9f26533c"
      },
      "execution_count": 13,
      "outputs": [
        {
          "output_type": "stream",
          "name": "stdout",
          "text": [
            "<class 'function'>\n",
            "Hello World!!!!\n",
            "I am the best Data Scientist\n"
          ]
        }
      ]
    },
    {
      "cell_type": "markdown",
      "source": [
        "Q5. Create a generator function for prime numbers less than 1000. Use the next() method to print the first 20 prime numbers."
      ],
      "metadata": {
        "id": "fFZtolLHRrEJ"
      }
    },
    {
      "cell_type": "code",
      "source": [
        "def primeNum():\n",
        "  for i in range(2,1001):\n",
        "    flag = 0\n",
        "    for j in range(2,i):\n",
        "      if i%j == 0 :\n",
        "        flag = 1\n",
        "    if flag == 0:\n",
        "      yield i "
      ],
      "metadata": {
        "id": "stVVpcdxRrjH"
      },
      "execution_count": 31,
      "outputs": []
    },
    {
      "cell_type": "code",
      "source": [
        "x = primeNum()"
      ],
      "metadata": {
        "id": "tw2dIGuaSJNG"
      },
      "execution_count": 32,
      "outputs": []
    },
    {
      "cell_type": "code",
      "source": [
        "for i in range(20):\n",
        "  print(next(x), end = \" \")"
      ],
      "metadata": {
        "colab": {
          "base_uri": "https://localhost:8080/"
        },
        "id": "lb_-cwCuUv8u",
        "outputId": "0bee5c8d-ea20-49bb-e771-c5a75c7afe56"
      },
      "execution_count": 33,
      "outputs": [
        {
          "output_type": "stream",
          "name": "stdout",
          "text": [
            "2 3 5 7 11 13 17 19 23 29 31 37 41 43 47 53 59 61 67 71 "
          ]
        }
      ]
    },
    {
      "cell_type": "code",
      "source": [],
      "metadata": {
        "id": "jvP9_GRNUzNp"
      },
      "execution_count": 30,
      "outputs": []
    }
  ]
}