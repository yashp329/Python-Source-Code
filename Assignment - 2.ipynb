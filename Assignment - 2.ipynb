{
 "cells": [
  {
   "cell_type": "markdown",
   "id": "8dc7c540",
   "metadata": {},
   "source": [
    "**1. Write a program to accept percentage from the user and display the grade according to the following \n",
    "criteria:** \n",
    "\n",
    "| Marks | Grade |\n",
    "|---|---|\n",
    "|>90 | A |\n",
    "| >80 and <=90 | B |\n",
    "| >=60 and <=80 | C |\n",
    "| below 60 | D |\n"
   ]
  },
  {
   "cell_type": "code",
   "execution_count": 8,
   "id": "74dae1fb",
   "metadata": {},
   "outputs": [
    {
     "name": "stdout",
     "output_type": "stream",
     "text": [
      "Enter your percentage : 85\n",
      "Grade B\n"
     ]
    }
   ],
   "source": [
    "percent = int(input(\"Enter your percentage : \"))\n",
    "\n",
    "if percent>90:\n",
    "    print(\"Grade A\")\n",
    "elif percent>80 and percent<=90:\n",
    "    print(\"Grade B\")\n",
    "elif percent>=60 and percent<=80:\n",
    "    print(\"Grade C\")\n",
    "elif percent<60 and percent>=35:\n",
    "    print(\"Grade D\")\n",
    "elif percent<0 and percent>100:\n",
    "    print(\"Invalid Input\")\n",
    "else:\n",
    "    print(\"Fail\")"
   ]
  },
  {
   "cell_type": "markdown",
   "id": "826efab1",
   "metadata": {},
   "source": [
    "**2. Write a program to accept the cost price of a bike and display the road tax to be paid according to the following criteria:** \n",
    "\n",
    "\n"
   ]
  },
  {
   "cell_type": "markdown",
   "id": "b46772b2",
   "metadata": {},
   "source": [
    "| Tax | Cost Price(in Rs) |\n",
    "| --- | --- |  \n",
    "| 15% | >100000 |\n",
    "| 10% | 50000 and <= 100000 |\n",
    "| 5% | <= 50000 |"
   ]
  },
  {
   "cell_type": "code",
   "execution_count": 10,
   "id": "eafcb993",
   "metadata": {},
   "outputs": [
    {
     "name": "stdout",
     "output_type": "stream",
     "text": [
      "Enter price of the bike : 101100\n",
      "You have tax amount of Rs.15165.0\n"
     ]
    }
   ],
   "source": [
    "cost_price = int(input(\"Enter price of the bike : \"))\n",
    "\n",
    "if cost_price>100000:\n",
    "    print(f\"You have tax amount of Rs.{cost_price*0.15}\")\n",
    "elif cost_price>50000 and cost_price<100000:\n",
    "    print(f\"You have tax amount of Rs.{cost_price*0.10}\")\n",
    "else:\n",
    "    print(f\"You have tax amount of Rs.{cost_price*0.05}\")"
   ]
  },
  {
   "cell_type": "markdown",
   "id": "bbd5a939",
   "metadata": {},
   "source": [
    "**3. Accept any city from the user and display monuments of that city.** \n",
    "\n",
    "| City | Monument |\n",
    "| --- | --- |\n",
    "| Delhi |Red Fort|\n",
    "|Agra|Taj Mahal|\n",
    "|Jaipur|Jal Mahal|\n",
    "\n",
    " \n",
    " \n",
    " \n",
    " \n"
   ]
  },
  {
   "cell_type": "code",
   "execution_count": 11,
   "id": "b51eab50",
   "metadata": {},
   "outputs": [],
   "source": [
    "monuments = {\"Delhi\":\"Red Fort\",\n",
    "            \"Agra\":\"Taj Mahal\",\n",
    "            \"Jaipur\":\"Jal Mahal\"}"
   ]
  },
  {
   "cell_type": "code",
   "execution_count": 15,
   "id": "9a42855a",
   "metadata": {},
   "outputs": [
    {
     "data": {
      "text/plain": [
       "dict_items([('Delhi', 'Red Fort'), ('Agra', 'Taj Mahal'), ('Jaipur', 'Jal Mahal')])"
      ]
     },
     "execution_count": 15,
     "metadata": {},
     "output_type": "execute_result"
    }
   ],
   "source": [
    "for keymonuments.items()"
   ]
  },
  {
   "cell_type": "code",
   "execution_count": 27,
   "id": "f9346f75",
   "metadata": {},
   "outputs": [
    {
     "name": "stdout",
     "output_type": "stream",
     "text": [
      "Enter a city name : Jaipur\n",
      "Jal Mahal\n"
     ]
    }
   ],
   "source": [
    "city = input(\"Enter a city name : \")\n",
    "\n",
    "for key,value in monuments.items():\n",
    "    if city == key:\n",
    "        print (value)"
   ]
  },
  {
   "cell_type": "markdown",
   "id": "d946a491",
   "metadata": {},
   "source": [
    "**4. Check how many times a given number can be divided by 3 before it is less than or equal to 10.** "
   ]
  },
  {
   "cell_type": "code",
   "execution_count": 26,
   "id": "9a16bea5",
   "metadata": {},
   "outputs": [
    {
     "name": "stdout",
     "output_type": "stream",
     "text": [
      "3\n"
     ]
    }
   ],
   "source": [
    "count = 0\n",
    "num = 1\n",
    "while num<=10:\n",
    "    if num%3==0:\n",
    "        count +=1\n",
    "    num+=1\n",
    "print(count)"
   ]
  },
  {
   "cell_type": "markdown",
   "id": "a3f8895b",
   "metadata": {},
   "source": [
    "**5. Why and When to Use while Loop in Python give a detailed description with example**"
   ]
  },
  {
   "cell_type": "markdown",
   "id": "3e29d331",
   "metadata": {},
   "source": [
    "With the while loop we can execute a set of statements as long as a condition is true."
   ]
  },
  {
   "cell_type": "code",
   "execution_count": 31,
   "id": "6649e159",
   "metadata": {},
   "outputs": [
    {
     "name": "stdout",
     "output_type": "stream",
     "text": [
      "1 2 3 4 5 6 7 8 9 10 "
     ]
    }
   ],
   "source": [
    "i=1\n",
    "while i<11:\n",
    "    print(i,end=\" \")\n",
    "    i+=1"
   ]
  },
  {
   "cell_type": "markdown",
   "id": "cb828859",
   "metadata": {},
   "source": [
    "**6. Use nested while loop to print 3 different pattern.** "
   ]
  },
  {
   "cell_type": "code",
   "execution_count": 44,
   "id": "b161c24c",
   "metadata": {},
   "outputs": [
    {
     "name": "stdout",
     "output_type": "stream",
     "text": [
      "* * * * * \n",
      "* * * * * \n",
      "* * * * * \n",
      "* * * * * \n",
      "* * * * * \n"
     ]
    }
   ],
   "source": [
    "n = 5\n",
    "\n",
    "for i in range(n):\n",
    "    for j in range(n):\n",
    "        print(\"*\",end = \" \")\n",
    "    print()\n",
    "    "
   ]
  },
  {
   "cell_type": "code",
   "execution_count": 45,
   "id": "1e7895af",
   "metadata": {},
   "outputs": [
    {
     "name": "stdout",
     "output_type": "stream",
     "text": [
      "* \n",
      "* * \n",
      "* * * \n",
      "* * * * \n",
      "* * * * * \n"
     ]
    }
   ],
   "source": [
    "n = 5\n",
    "\n",
    "for i in range(n):\n",
    "    for j in range(0,i+1):\n",
    "        print(\"*\",end=\" \")    \n",
    "    print()"
   ]
  },
  {
   "cell_type": "code",
   "execution_count": 46,
   "id": "ba23d60f",
   "metadata": {},
   "outputs": [
    {
     "name": "stdout",
     "output_type": "stream",
     "text": [
      "* * * * * \n",
      "* * * * \n",
      "* * * \n",
      "* * \n",
      "* \n"
     ]
    }
   ],
   "source": [
    "n=5\n",
    "\n",
    "for i in range(n):\n",
    "    for j in range(i,n):\n",
    "        print(\"*\",end = \" \")\n",
    "    print()"
   ]
  },
  {
   "cell_type": "code",
   "execution_count": 47,
   "id": "ff5eff22",
   "metadata": {},
   "outputs": [
    {
     "name": "stdout",
     "output_type": "stream",
     "text": [
      "          # \n",
      "        # # \n",
      "      # # # \n",
      "    # # # # \n",
      "  # # # # # \n"
     ]
    }
   ],
   "source": [
    "n = 5\n",
    "\n",
    "for i in range(n):\n",
    "    for j in range(i,n):\n",
    "        print(\" \",end=\" \")\n",
    "        \n",
    "    for j in range(0,i+1):\n",
    "        print(\"#\",end=\" \")\n",
    "    \n",
    "    print()"
   ]
  },
  {
   "cell_type": "code",
   "execution_count": 50,
   "id": "5d5382e4",
   "metadata": {},
   "outputs": [
    {
     "name": "stdout",
     "output_type": "stream",
     "text": [
      "          # \n",
      "        # # # \n",
      "      # # # # # \n",
      "    # # # # # # # \n",
      "  # # # # # # # # # \n"
     ]
    }
   ],
   "source": [
    "n = 5\n",
    "\n",
    "for i in range(n):\n",
    "    for j in range(i,n):\n",
    "        print(\" \",end = \" \")\n",
    "        \n",
    "    for j in range(0,i):\n",
    "        print(\"#\",end=\" \")\n",
    "    \n",
    "    for j in range(0,i+1):\n",
    "        print(\"#\",end=\" \")\n",
    "         \n",
    "    print()"
   ]
  },
  {
   "cell_type": "code",
   "execution_count": 55,
   "id": "387ce8e0",
   "metadata": {},
   "outputs": [
    {
     "name": "stdout",
     "output_type": "stream",
     "text": [
      "  # # # # # # # # # \n",
      "    # # # # # # # \n",
      "      # # # # # \n",
      "        # # # \n",
      "          # \n"
     ]
    }
   ],
   "source": [
    "n = 5\n",
    "\n",
    "for i in range(n):\n",
    "    for j in range(0,i+1):\n",
    "        print(\" \",end = \" \")\n",
    "        \n",
    "    for j in range(i,n-1):\n",
    "        print(\"#\",end=\" \")\n",
    "    \n",
    "    for j in range(i,n):\n",
    "        print(\"#\",end=\" \")\n",
    "         \n",
    "    print()\n"
   ]
  },
  {
   "cell_type": "code",
   "execution_count": 56,
   "id": "dc1a049a",
   "metadata": {},
   "outputs": [
    {
     "name": "stdout",
     "output_type": "stream",
     "text": [
      "          # \n",
      "        # # # \n",
      "      # # # # # \n",
      "    # # # # # # # \n",
      "  # # # # # # # # # \n",
      "  # # # # # # # # # \n",
      "    # # # # # # # \n",
      "      # # # # # \n",
      "        # # # \n",
      "          # \n"
     ]
    }
   ],
   "source": [
    "for i in range(n):\n",
    "    for j in range(i,n):\n",
    "        print(\" \",end = \" \")\n",
    "        \n",
    "    for j in range(0,i):\n",
    "        print(\"#\",end=\" \")\n",
    "    \n",
    "    for j in range(0,i+1):\n",
    "        print(\"#\",end=\" \")\n",
    "         \n",
    "    print()\n",
    "for i in range(n):\n",
    "    for j in range(0,i+1):\n",
    "        print(\" \",end = \" \")\n",
    "        \n",
    "    for j in range(i,n-1):\n",
    "        print(\"#\",end=\" \")\n",
    "    \n",
    "    for j in range(i,n):\n",
    "        print(\"#\",end=\" \")\n",
    "         \n",
    "    print()\n"
   ]
  },
  {
   "cell_type": "markdown",
   "id": "a0cd0f5a",
   "metadata": {},
   "source": [
    "**7. Reverse a while loop to display numbers from 10 to 1.** "
   ]
  },
  {
   "cell_type": "code",
   "execution_count": 38,
   "id": "8693e4bb",
   "metadata": {},
   "outputs": [
    {
     "name": "stdout",
     "output_type": "stream",
     "text": [
      "10 9 8 7 6 5 4 3 2 1 "
     ]
    }
   ],
   "source": [
    "num = 10\n",
    "while num>0:\n",
    "    print(num,end=\" \")\n",
    "    num-=1"
   ]
  },
  {
   "cell_type": "markdown",
   "id": "35e370c5",
   "metadata": {},
   "source": [
    "**8. Reverse a for loop to display numbers from 10 to 1** "
   ]
  },
  {
   "cell_type": "code",
   "execution_count": 42,
   "id": "b98dd775",
   "metadata": {},
   "outputs": [
    {
     "name": "stdout",
     "output_type": "stream",
     "text": [
      "10 9 8 7 6 5 4 3 2 1 "
     ]
    }
   ],
   "source": [
    "for i in range(10,0,-1):\n",
    "    print(i,end= \" \")"
   ]
  },
  {
   "cell_type": "code",
   "execution_count": null,
   "id": "1c008899",
   "metadata": {},
   "outputs": [],
   "source": []
  }
 ],
 "metadata": {
  "kernelspec": {
   "display_name": "Python 3 (ipykernel)",
   "language": "python",
   "name": "python3"
  },
  "language_info": {
   "codemirror_mode": {
    "name": "ipython",
    "version": 3
   },
   "file_extension": ".py",
   "mimetype": "text/x-python",
   "name": "python",
   "nbconvert_exporter": "python",
   "pygments_lexer": "ipython3",
   "version": "3.8.10"
  }
 },
 "nbformat": 4,
 "nbformat_minor": 5
}
