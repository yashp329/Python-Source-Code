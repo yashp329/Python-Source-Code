{
 "cells": [
  {
   "cell_type": "markdown",
   "id": "c4b75057",
   "metadata": {},
   "source": [
    "**Q1. Which keyword is used to create a function? Create a function to return a list of odd numbers in the\n",
    "range of 1 to 25.**\n",
    "\n",
    "- def keyword is used to initiate the function inside Python"
   ]
  },
  {
   "cell_type": "code",
   "execution_count": 1,
   "id": "5a5e29eb",
   "metadata": {},
   "outputs": [],
   "source": [
    "def odd_num(list1):\n",
    "    odd_list = []\n",
    "    for i in list1:\n",
    "        if i%2==1:\n",
    "            odd_list.append(i)\n",
    "            \n",
    "    return odd_list        "
   ]
  },
  {
   "cell_type": "code",
   "execution_count": 2,
   "id": "33672826",
   "metadata": {},
   "outputs": [
    {
     "data": {
      "text/plain": [
       "[21, 67, 31]"
      ]
     },
     "execution_count": 2,
     "metadata": {},
     "output_type": "execute_result"
    }
   ],
   "source": [
    "odd_num([21,2,24,67,31,22,44,200])"
   ]
  },
  {
   "cell_type": "markdown",
   "id": "b44c0862",
   "metadata": {},
   "source": [
    "**Q2. Why *args and **kwargs is used in some functions? Create a function each for *args and **kwargs to\n",
    "demonstrate their use.**"
   ]
  },
  {
   "cell_type": "markdown",
   "id": "a95bf907",
   "metadata": {},
   "source": [
    "- *args (Non-Keyword Arguments)\n",
    "- **kwargs\" (Keyword Arguments)\n",
    "\n",
    "If you do not know how many arguments that will be passed into your function, add a * before the parameter name in the function definition.\n",
    "\n",
    "If you do not know how many keyword arguments that will be passed into your function, add two asterisk: ** before the parameter name in the function definition."
   ]
  },
  {
   "cell_type": "code",
   "execution_count": 6,
   "id": "fa184982",
   "metadata": {},
   "outputs": [],
   "source": [
    "def addition(*args):\n",
    "    return sum(args)"
   ]
  },
  {
   "cell_type": "code",
   "execution_count": 7,
   "id": "38f6e01e",
   "metadata": {},
   "outputs": [
    {
     "data": {
      "text/plain": [
       "84"
      ]
     },
     "execution_count": 7,
     "metadata": {},
     "output_type": "execute_result"
    }
   ],
   "source": [
    "addition(29,21,11,23)"
   ]
  },
  {
   "cell_type": "code",
   "execution_count": 8,
   "id": "9dfbac50",
   "metadata": {},
   "outputs": [],
   "source": [
    "def key_func(**kwargs):\n",
    "    return kwargs"
   ]
  },
  {
   "cell_type": "code",
   "execution_count": 11,
   "id": "d7a2c4fd",
   "metadata": {},
   "outputs": [
    {
     "data": {
      "text/plain": [
       "{'name': 'Yash', 'a': 21}"
      ]
     },
     "execution_count": 11,
     "metadata": {},
     "output_type": "execute_result"
    }
   ],
   "source": [
    "key_func(name = \"Yash\",a = 21)"
   ]
  },
  {
   "cell_type": "markdown",
   "id": "9be35d43",
   "metadata": {},
   "source": [
    "**Q3. What is an iterator in python? Name the method used to initialise the iterator object and the method\n",
    "used for iteration. Use these methods to print the first five elements of the given list [2, 4, 6, 8, 10, 12, 14, 16,\n",
    "18, 20].**"
   ]
  },
  {
   "cell_type": "markdown",
   "id": "c9e29d07",
   "metadata": {},
   "source": [
    "Lists, tuples, dictionaries, and sets are all iterable objects. They are iterable containers which you can get an iterator from.\n",
    "\n",
    "All these objects have a iter() method which is used to get an iterator:\n"
   ]
  },
  {
   "cell_type": "code",
   "execution_count": 13,
   "id": "a5faa725",
   "metadata": {},
   "outputs": [],
   "source": [
    "list1 = [2, 4, 6, 8, 10, 12, 14, 16, 18, 20]"
   ]
  },
  {
   "cell_type": "code",
   "execution_count": null,
   "id": "8269f281",
   "metadata": {},
   "outputs": [],
   "source": [
    "def iteration(lst):\n",
    "    "
   ]
  },
  {
   "cell_type": "code",
   "execution_count": null,
   "id": "6bdd50bc",
   "metadata": {},
   "outputs": [],
   "source": []
  },
  {
   "cell_type": "code",
   "execution_count": null,
   "id": "119854a0",
   "metadata": {},
   "outputs": [],
   "source": []
  },
  {
   "cell_type": "markdown",
   "id": "ea86e26b",
   "metadata": {},
   "source": [
    "Q4. What is a generator function in python? Why yield keyword is used? Give an example of a generator\n",
    "function.\n",
    "\n",
    "\n",
    "Q5. Create a generator function for prime numbers less than 1000. Use the next() method to print the\n",
    "first 20 prime numbers."
   ]
  },
  {
   "cell_type": "code",
   "execution_count": null,
   "id": "1f440aa1",
   "metadata": {},
   "outputs": [],
   "source": []
  }
 ],
 "metadata": {
  "kernelspec": {
   "display_name": "Python 3 (ipykernel)",
   "language": "python",
   "name": "python3"
  },
  "language_info": {
   "codemirror_mode": {
    "name": "ipython",
    "version": 3
   },
   "file_extension": ".py",
   "mimetype": "text/x-python",
   "name": "python",
   "nbconvert_exporter": "python",
   "pygments_lexer": "ipython3",
   "version": "3.8.10"
  }
 },
 "nbformat": 4,
 "nbformat_minor": 5
}
